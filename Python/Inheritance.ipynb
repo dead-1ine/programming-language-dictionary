{
 "cells": [
  {
   "cell_type": "markdown",
   "source": [
    "## 단일 상속"
   ],
   "metadata": {
    "collapsed": false
   },
   "id": "52ded2ca2cf83f01"
  },
  {
   "cell_type": "code",
   "execution_count": null,
   "id": "initial_id",
   "metadata": {
    "collapsed": true,
    "is_executing": true,
    "ExecuteTime": {
     "start_time": "2023-09-18T01:04:08.091603Z"
    }
   },
   "outputs": [],
   "source": [
    "class Animal:\n",
    "    def make_sound(self):\n",
    "        print(\"Some generic sound\")\n",
    "        \n",
    "        \n",
    "class Dog(Animal):\n",
    "    def make_sound(self):\n",
    "        print(\"Woof\")"
   ]
  },
  {
   "cell_type": "markdown",
   "source": [
    "## 다중 상속\n"
   ],
   "metadata": {
    "collapsed": false
   },
   "id": "98c2174d076cff6d"
  },
  {
   "cell_type": "code",
   "execution_count": null,
   "outputs": [],
   "source": [
    "class Mammal(Animal):\n",
    "    def make_mammal_sound(self):\n",
    "        print(\"Mammal sound\")"
   ],
   "metadata": {
    "collapsed": false
   },
   "id": "dc39508cdad30b93"
  }
 ],
 "metadata": {
  "kernelspec": {
   "display_name": "Python 3",
   "language": "python",
   "name": "python3"
  },
  "language_info": {
   "codemirror_mode": {
    "name": "ipython",
    "version": 2
   },
   "file_extension": ".py",
   "mimetype": "text/x-python",
   "name": "python",
   "nbconvert_exporter": "python",
   "pygments_lexer": "ipython2",
   "version": "2.7.6"
  }
 },
 "nbformat": 4,
 "nbformat_minor": 5
}
