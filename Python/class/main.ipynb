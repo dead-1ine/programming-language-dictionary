{
 "cells": [
  {
   "cell_type": "markdown",
   "source": [
    "# Class\n",
    "- 객체 지향 프로그래밍의 핵심 요소 중 하나이다.\n",
    "- 클래스는 객체의 틀이나 설계도와 같이 사용자 정의 데이터 타입을 만들기 위한 도구이다.\n",
    "- 클래스는 데이터와 함수를 하나의 개체로 묶어 관련 기능을 모듈화하고 코드의 재사용성을 향상시킨다.\n",
    "\n",
    "- 클래스의 구성요소\n",
    "    1. Class Name: 클래스의 이름은 CamelCase로 작성한다.\n",
    "    2. Attributes: 클래스의 데이터를 저장하는 변수이다. 속성은 객체의 상태를 나타낸다.\n",
    "    3. Methods: 클래스 내에 정의된 함수이다. 메서드는 객체의 동작을 나타낸다."
   ],
   "metadata": {
    "collapsed": false
   }
  },
  {
   "cell_type": "markdown",
   "source": [
    "### Class의 기본 구조"
   ],
   "metadata": {
    "collapsed": false
   }
  },
  {
   "cell_type": "code",
   "execution_count": 1,
   "outputs": [
    {
     "ename": "SyntaxError",
     "evalue": "incomplete input (3818364084.py, line 8)",
     "output_type": "error",
     "traceback": [
      "\u001B[0;36m  Cell \u001B[0;32mIn[1], line 8\u001B[0;36m\u001B[0m\n\u001B[0;31m    # Code\u001B[0m\n\u001B[0m          ^\u001B[0m\n\u001B[0;31mSyntaxError\u001B[0m\u001B[0;31m:\u001B[0m incomplete input\n"
     ]
    }
   ],
   "source": [
    "class ClassName:\n",
    "    # 특별한 메서드로, 객체 초기화 메서드라고도 한다. 클래스의 인스턴스가 생성될 때 자동으로 호출되며, 속성을 초기화하는 데 사용한다.\n",
    "    def __init__(self, attr1, attr2):\n",
    "        self.attr1 = attr1\n",
    "        self.attr2 = attr2\n",
    "\n",
    "\n",
    "    def method1(self, args):\n",
    "        # Code"
   ],
   "metadata": {
    "collapsed": false,
    "ExecuteTime": {
     "end_time": "2023-09-17T02:02:47.210132Z",
     "start_time": "2023-09-17T02:02:47.195926Z"
    }
   }
  },
  {
   "cell_type": "markdown",
   "source": [
    "## MixIn Class"
   ],
   "metadata": {
    "collapsed": false
   }
  }
 ],
 "metadata": {
  "kernelspec": {
   "display_name": "Python 3",
   "language": "python",
   "name": "python3"
  },
  "language_info": {
   "codemirror_mode": {
    "name": "ipython",
    "version": 2
   },
   "file_extension": ".py",
   "mimetype": "text/x-python",
   "name": "python",
   "nbconvert_exporter": "python",
   "pygments_lexer": "ipython2",
   "version": "2.7.6"
  }
 },
 "nbformat": 4,
 "nbformat_minor": 0
}
