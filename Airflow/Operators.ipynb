{
 "cells": [
  {
   "cell_type": "markdown",
   "source": [
    "# BrachOperator\n",
    "\n",
    "---\n",
    "\n",
    "The operator will continue with the returned task_id(s), and all other tasks directly downstream of this operator will be skipped\n",
    "\n",
    "- Code\n",
    "    \n",
    "    ```python\n",
    "    @task.branch(task_id='branch_task')\n",
    "    def branch_func(ti=None):\n",
    "    \t\txcom_value = int(ti.xcom_pull(task_ids='start_task'))\n",
    "    \t\tif xcom_value >= 5:\n",
    "    \t\t\t\treturn 'continue_task'\n",
    "    \t\telif xcom_value >= 3:\n",
    "    \t\t\t\treturn 'stop_task'\n",
    "    \t\telse:\n",
    "    \t\t\t\treturn None\n",
    "    \n",
    "    start_op = BashOperator(\n",
    "    \t\ttask_id='start_task',\n",
    "    \t\tbash_command='echo 5',\n",
    "    \t\txcom_push=True,\n",
    "    \t\tdag=dag,\n",
    "    )\n",
    "    \n",
    "    branch_op = branch_func()\n",
    "    \n",
    "    continue_op = EmptyOperator(task_id='continue_task', dag=dag)\n",
    "    stop_op = EmptyOperator(task_id='stop_task', dag=dag)\n",
    "    \n",
    "    start_op >> branch_op >> [continue_op, stop_op]\n",
    "    ```"
   ],
   "metadata": {
    "collapsed": false
   },
   "id": "42732a782df6771f"
  }
 ],
 "metadata": {
  "kernelspec": {
   "display_name": "Python 3",
   "language": "python",
   "name": "python3"
  },
  "language_info": {
   "codemirror_mode": {
    "name": "ipython",
    "version": 2
   },
   "file_extension": ".py",
   "mimetype": "text/x-python",
   "name": "python",
   "nbconvert_exporter": "python",
   "pygments_lexer": "ipython2",
   "version": "2.7.6"
  }
 },
 "nbformat": 4,
 "nbformat_minor": 5
}
